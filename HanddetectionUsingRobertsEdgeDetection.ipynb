{
 "cells": [
  {
   "cell_type": "code",
   "execution_count": 1,
   "metadata": {},
   "outputs": [],
   "source": [
    "import skimage \n",
    "import numpy as np\n",
    "import cv2 as cv\n",
    "from skimage.filters import roberts\n",
    "\n",
    "capture_video = cv.VideoCapture(0)\n",
    "while (True):\n",
    "  \n",
    "    ret,frame = capture_video.read()\n",
    "    \n",
    "    #roi = frame[100:300,100:300]\n",
    "    #cv.rectangle(frame,(100,100),(300,300),(0,255,0),0)\n",
    "    \n",
    "    vid_gray = cv.cvtColor(frame,cv.COLOR_BGR2GRAY)\n",
    "    #vid_gray = cv.cvtColor(frame,cv.COLOR_BGR2HSV)\n",
    "    roi = vid_gray[100:300,100:300]\n",
    "    cv.rectangle(frame,(100,100),(300,300),(0,255,0),0)\n",
    "    \n",
    "    vid_roberts_edge = roberts(roi)\n",
    "    \n",
    "    cv.imshow(\"Normal Video\", frame)\n",
    "    \n",
    "    cv.imshow(\"Roberts Edge Detection\", vid_roberts_edge)\n",
    "    \n",
    "    #cv.waitKey(100)\n",
    "    if cv.waitKey(100) & 0xFF == ord('q'):\n",
    "        break\n",
    "capture_video.release()\n",
    "cv.destroyAllWindows()\n",
    "\n",
    "\n",
    "\n"
   ]
  },
  {
   "cell_type": "code",
   "execution_count": null,
   "metadata": {},
   "outputs": [],
   "source": []
  },
  {
   "cell_type": "code",
   "execution_count": null,
   "metadata": {},
   "outputs": [],
   "source": []
  }
 ],
 "metadata": {
  "kernelspec": {
   "display_name": "Python 3.7 (tensorflow)",
   "language": "python",
   "name": "tensorflow"
  },
  "language_info": {
   "codemirror_mode": {
    "name": "ipython",
    "version": 3
   },
   "file_extension": ".py",
   "mimetype": "text/x-python",
   "name": "python",
   "nbconvert_exporter": "python",
   "pygments_lexer": "ipython3",
   "version": "3.7.7"
  }
 },
 "nbformat": 4,
 "nbformat_minor": 4
}
