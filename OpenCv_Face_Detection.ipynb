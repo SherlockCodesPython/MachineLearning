{
 "cells": [
  {
   "cell_type": "code",
   "execution_count": 1,
   "metadata": {},
   "outputs": [
    {
     "name": "stdout",
     "output_type": "stream",
     "text": [
      "anik\n",
      "Unlocked\n"
     ]
    }
   ],
   "source": [
    "import cv2 as cv\n",
    "import numpy as np\n",
    "import pickle \n",
    "#used to find the frontal face.make sure to convert color to gray\n",
    "face_cascade = cv.CascadeClassifier(\"cascades/data/haarcascade_frontalface_alt2.xml\")\n",
    "recognoizer = cv.face.LBPHFaceRecognizer_create()\n",
    "\n",
    "recognoizer.read(\"trainner.yml\")\n",
    "\n",
    "labels ={\"person_name\": 1}\n",
    "\n",
    "with open(\"labels.pickle\",'rb') as f:\n",
    "    og_labels = pickle.load(f)\n",
    "    labels = {v:k for k,v in og_labels.items()}\n",
    "    \n",
    "\n",
    "#face_eye_cascade = cv.CascadeClassifier(\"cascades/data/haarcascade_eye_tree_eyeglasses\")\n",
    "\n",
    "#to run the video module\n",
    "vid_img = cv.VideoCapture(0)\n",
    "#Infinite loop for video capture\n",
    "while(True):\n",
    "    #reading video image from camera\n",
    "    ret,frame = vid_img.read()\n",
    "    gray = cv.cvtColor(frame,cv.COLOR_BGR2GRAY)\n",
    "    all_faces = face_cascade.detectMultiScale(gray,scaleFactor=1.5, minNeighbors=5)\n",
    "    #all_eye = face_eye_cascade.detectMultiScale(all_faces)\n",
    "    #roi_gray = gray[100:300,100:300]\n",
    "    #cv.rectangle(frame,(100,100),(300,300),(0,255,0),0)\n",
    "    for(x,y,w,h) in all_faces:\n",
    "        #print(x,y,w,h)\n",
    "        #[Region of interest :- ycoordinate start:- [coordinate  1 + height] ,y coordinate end[coordinate 2 +height]\n",
    "        roi_gray = gray[y:y+h,x:x+w]\n",
    "        roi_color = gray[y:y+h,x:x+w]\n",
    "        id_,conf = recognoizer.predict(roi_gray)\n",
    "        if conf>= 25 and conf <= 85:\n",
    "            #print(id_)\n",
    "            font = cv.FONT_HERSHEY_SIMPLEX\n",
    "            cv.putText(frame,labels[id_],(0,50),font,1,(0,0,255),3, cv.LINE_AA)\n",
    "            print(labels[id_])\n",
    "        img_item = \"my-image.png\"\n",
    "        cv.imwrite(img_item,roi_gray)\n",
    "        #Draw rect\n",
    "        color = (0,255,0)\n",
    "        stroke = 5\n",
    "        #end coordinates x\n",
    "        width = x+w\n",
    "        #End coordinates y\n",
    "        height = y+h\n",
    "        cv.rectangle(frame, (x,y), (width, height),color, stroke)\n",
    "   #showing the image\n",
    "    cv.imshow('frame',frame)\n",
    "       \n",
    "    \n",
    "    if cv.waitKey(20) & 0xFF == ord('q'):\n",
    "        break\n",
    "if (labels[id_]) == 'anik':\n",
    "    print(\"Unlocked\")\n",
    "else:\n",
    "    print('Locked Please try again')\n",
    "vid_img.release()\n",
    "cv.destroyAllWindows()\n"
   ]
  },
  {
   "cell_type": "code",
   "execution_count": null,
   "metadata": {},
   "outputs": [],
   "source": []
  },
  {
   "cell_type": "code",
   "execution_count": null,
   "metadata": {},
   "outputs": [],
   "source": []
  },
  {
   "cell_type": "code",
   "execution_count": null,
   "metadata": {},
   "outputs": [],
   "source": []
  },
  {
   "cell_type": "code",
   "execution_count": null,
   "metadata": {},
   "outputs": [],
   "source": []
  },
  {
   "cell_type": "code",
   "execution_count": null,
   "metadata": {},
   "outputs": [],
   "source": []
  },
  {
   "cell_type": "code",
   "execution_count": null,
   "metadata": {},
   "outputs": [],
   "source": []
  }
 ],
 "metadata": {
  "kernelspec": {
   "display_name": "Python 3.7 (tensorflow)",
   "language": "python",
   "name": "tensorflow"
  },
  "language_info": {
   "codemirror_mode": {
    "name": "ipython",
    "version": 3
   },
   "file_extension": ".py",
   "mimetype": "text/x-python",
   "name": "python",
   "nbconvert_exporter": "python",
   "pygments_lexer": "ipython3",
   "version": "3.7.7"
  }
 },
 "nbformat": 4,
 "nbformat_minor": 4
}
