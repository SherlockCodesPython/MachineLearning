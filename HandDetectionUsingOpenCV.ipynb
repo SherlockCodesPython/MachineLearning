{
 "cells": [
  {
   "cell_type": "code",
   "execution_count": 1,
   "metadata": {},
   "outputs": [],
   "source": [
    "import cv2 as cv\n",
    "import numpy as np\n",
    "\n",
    "#creating an object for cammera\n",
    "capture_img = cv.VideoCapture(0)\n",
    "\n",
    "#infinite loop for gathering the image\n",
    "while (True):\n",
    "    #ret is the numpy array or pixels\n",
    "    ret,frame = capture_img.read()\n",
    "    #Converting the image into gray scale\n",
    "    #vid_gray = cv.cvtColor(frame,cv.COLOR_BGR2GRAY)\n",
    "    \n",
    "    #Definnf ROI\n",
    "    roi = frame[100:300,100:300]\n",
    "    \n",
    "    cv.rectangle(frame,(100,100),(300,300),(0,255,0),0)\n",
    "    \n",
    "    vid_hsv= cv.cvtColor(roi,cv.COLOR_BGR2HSV)\n",
    "    #vid_hsv= cv.cvtColor(frame,cv.COLOR_BGR2HSV)\n",
    "    \n",
    "    #Anything of skin colour will be taken as 1 or white\n",
    "    #Anything of not of skin colour will be taken as 0 or black\n",
    "    \n",
    "    lower_blue = np.array([0, 50 , 0])\n",
    "    upper_blue = np.array([20, 255, 255])\n",
    "    mask = cv.inRange(vid_hsv,lower_blue,upper_blue)\n",
    "    \n",
    "    #mask = cv.dilate(mask,kernel,iterations = 4)\n",
    "    \n",
    "    mask = cv.GaussianBlur(mask,(5,5),100)\n",
    "    \n",
    "    cv.imshow('HSV IMG',mask)\n",
    "    \n",
    "    \n",
    "    contours,_ = cv.findContours(mask, cv.RETR_TREE, cv.CHAIN_APPROX_SIMPLE)\n",
    "    \n",
    "    #cv.drawContours(roi,contours,-1,(0,255,0),3)\n",
    "    \n",
    "    cnt_max = max(contours, key= lambda x : cv.contourArea(x))\n",
    "    cv.drawContours(roi,cnt_max,-1,(0,255,0),3)\n",
    "    #hand_hull = cv.convexHull(cnt_max)\n",
    "    \n",
    "    #\n",
    "    \n",
    "        \n",
    "    \n",
    "    \n",
    "    \n",
    "    \n",
    "    \n",
    "    #showing the captured image\n",
    "    cv.imshow('Hand Detection',frame)\n",
    "    #need to know the functgion of wait key here\n",
    "    #cv.waitKey(100)\n",
    "    if cv.waitKey(20) & 0xFF == ord('q'):\n",
    "        break\n",
    "capture_img.release()\n",
    "cv.destroyAllWindows()\n"
   ]
  },
  {
   "cell_type": "code",
   "execution_count": null,
   "metadata": {},
   "outputs": [],
   "source": []
  },
  {
   "cell_type": "code",
   "execution_count": null,
   "metadata": {},
   "outputs": [],
   "source": []
  }
 ],
 "metadata": {
  "kernelspec": {
   "display_name": "Python 3.7 (tensorflow)",
   "language": "python",
   "name": "tensorflow"
  },
  "language_info": {
   "codemirror_mode": {
    "name": "ipython",
    "version": 3
   },
   "file_extension": ".py",
   "mimetype": "text/x-python",
   "name": "python",
   "nbconvert_exporter": "python",
   "pygments_lexer": "ipython3",
   "version": "3.7.7"
  }
 },
 "nbformat": 4,
 "nbformat_minor": 4
}
