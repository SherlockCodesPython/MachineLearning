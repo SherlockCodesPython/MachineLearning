{
 "cells": [
  {
   "cell_type": "code",
   "execution_count": null,
   "metadata": {},
   "outputs": [],
   "source": [
    "import skimage \n",
    "from skimage.filters import sobel\n",
    "import cv2 as cv\n",
    "import numpy as np\n",
    "\n",
    "vid_cap = cv.VideoCapture(0)\n",
    "\n",
    "while (True):\n",
    "    ret,frame = vid_cap.read()\n",
    "    \n",
    "    cnvt_vdo_gray = cv.cvtColor(frame,cv.COLOR_BGR2GRAY)\n",
    "    #cnvt_vdo_hsv = cv.cvtColor(frame,cv.COLOR_BGR2HSV)\n",
    "    \n",
    "    roi = cnvt_vdo_gray[100:300,100:300]\n",
    "    #roi = cnvt_vdo_hsv[100:300,100:300]\n",
    "    cv.rectangle(frame,(100,100),(300,300),(0,255,0),0)\n",
    "    \n",
    "    font = cv.FONT_HERSHEY_SIMPLEX\n",
    "    cv.putText(frame,'Put your Hand In The box',(0,50),font,1,(0,0,255),3, cv.LINE_AA)\n",
    "    #cv2.putText(image, text, org, font, fontScale, color[, thickness[, lineType[, bottomLeftOrigin]]])\n",
    "    \n",
    "    #lower_blue = np.array([0, 50 , 0])\n",
    "    #upper_blue = np.array([20, 255, 255])\n",
    "    #mask = cv.inRange(cnvt_vdo_gray,lower_blue,upper_blue)\n",
    "    #mask = cv.dilate(mask,kernel,iterations = 4)\n",
    "    #mask = cv.GaussianBlur(mask,(5,5),100)\n",
    "    #cv.imshow('HSV IMG',mask)\n",
    "    #vid_sobel = sobel(mask)\n",
    "    \n",
    "    vid_sobel = sobel(roi)\n",
    "    \n",
    "    cv.imshow(\"Sobel\", vid_sobel)\n",
    "    \n",
    "    cv.imshow(\"Normal Video Capture\", frame)\n",
    "    \n",
    "    if cv.waitKey(100) & 0xFF == ord('q'):\n",
    "        break\n",
    "vid_cap.release()\n",
    "cv.destroyAllWindows()\n",
    "    \n",
    "    "
   ]
  },
  {
   "cell_type": "code",
   "execution_count": null,
   "metadata": {},
   "outputs": [],
   "source": []
  }
 ],
 "metadata": {
  "kernelspec": {
   "display_name": "Python 3.7 (tensorflow)",
   "language": "python",
   "name": "tensorflow"
  },
  "language_info": {
   "codemirror_mode": {
    "name": "ipython",
    "version": 3
   },
   "file_extension": ".py",
   "mimetype": "text/x-python",
   "name": "python",
   "nbconvert_exporter": "python",
   "pygments_lexer": "ipython3",
   "version": "3.7.7"
  }
 },
 "nbformat": 4,
 "nbformat_minor": 4
}
